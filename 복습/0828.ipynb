{
 "cells": [
  {
   "cell_type": "code",
   "execution_count": 8,
   "metadata": {},
   "outputs": [
    {
     "name": "stdout",
     "output_type": "stream",
     "text": [
      "5\n"
     ]
    }
   ],
   "source": [
    "# A -> B\n",
    "a, b = map(int, input().split())\n",
    "result = 1\n",
    "\n",
    "while b != a:\n",
    "    result += 1\n",
    "    temp = b\n",
    "\n",
    "    if b % 10 == 1:\n",
    "        b //= 10\n",
    "    elif b % 2 == 0:\n",
    "        b //= 2\n",
    "    \n",
    "    if temp == b:\n",
    "        print(-1)\n",
    "        break\n",
    "else:\n",
    "    print(result)"
   ]
  },
  {
   "cell_type": "code",
   "execution_count": 58,
   "metadata": {},
   "outputs": [
    {
     "name": "stdout",
     "output_type": "stream",
     "text": [
      "-1\n"
     ]
    }
   ],
   "source": [
    "# 감소하는 수\n",
    "from itertools import combinations\n",
    "n = int(input())\n",
    "nums = list()\n",
    "numbers = list(range(1, 11))\n",
    "result_list = set()\n",
    "for i in range(1, 9):\n",
    "    for comb in combinations(range(0, 10), i):\n",
    "        comb = list(comb)\n",
    "        comb.sort(reverse=True)\n",
    "        nums.append(int(\"\".join(map(str, comb))))\n",
    "\n",
    "nums.sort()\n",
    "\n",
    "try:\n",
    "    print(nums[n])\n",
    "except:\n",
    "    print(-1)"
   ]
  },
  {
   "cell_type": "code",
   "execution_count": 89,
   "metadata": {},
   "outputs": [
    {
     "name": "stdout",
     "output_type": "stream",
     "text": [
      "int&&[]* a;\n",
      "int& b;\n",
      "int&* c;\n"
     ]
    }
   ],
   "source": [
    "# iSharp\n",
    "\n",
    "string = input()\n",
    "s_list = string.split(' ')\n",
    "basic_type = s_list[0]\n",
    "del s_list[0]\n",
    "\n",
    "for s in s_list:\n",
    "    s = s.replace(',', '').replace(' ', '').replace(';', '')\n",
    "    print(basic_type, end=\"\")\n",
    "\n",
    "    for i in reversed(range(len(s))):   \n",
    "        if not s[i].isalpha():\n",
    "            if s[i] == '[':\n",
    "                print(']', end=\"\")\n",
    "            elif s[i] == ']':\n",
    "                print('[', end=\"\")\n",
    "            else:\n",
    "                print(s[i], end=\"\")\n",
    "    print(' ', end=\"\")\n",
    "\n",
    "    for i in range(len(s)):\n",
    "        if s[i].isalpha():\n",
    "            print(s[i], end='')\n",
    "    \n",
    "    print(';')"
   ]
  },
  {
   "cell_type": "code",
   "execution_count": 94,
   "metadata": {},
   "outputs": [
    {
     "name": "stdout",
     "output_type": "stream",
     "text": [
      "-1\n"
     ]
    }
   ],
   "source": [
    "# 소수\n",
    "def prime_num(number):\n",
    "    if number < 2:\n",
    "        return False\n",
    "    else:\n",
    "        for i in range(2, int(number**0.5) + 1):\n",
    "            if number % i == 0:\n",
    "                return False\n",
    "    return True\n",
    "\n",
    "m = int(input())\n",
    "n = int(input())\n",
    "\n",
    "result = []\n",
    "count = 0\n",
    "for i in range(m, n + 1):\n",
    "    if prime_num(i):\n",
    "        count += 1\n",
    "        result.append(i)\n",
    "\n",
    "if count:\n",
    "    print(sum(result))\n",
    "    print(min(result))\n",
    "else:\n",
    "    print(-1)"
   ]
  },
  {
   "cell_type": "code",
   "execution_count": 106,
   "metadata": {},
   "outputs": [
    {
     "name": "stdout",
     "output_type": "stream",
     "text": [
      "1 2 4 3 \n",
      "1 2 3 4 "
     ]
    }
   ],
   "source": [
    "# DFS와 BFS\n",
    "from collections import deque\n",
    "n, m, v = map(int, input().split())\n",
    "graph = [[] * (n + 1) for _ in range(n + 1)]\n",
    "\n",
    "for _ in range(m):\n",
    "    a, b = map(int, input().split())\n",
    "    graph[a].append(b)\n",
    "    graph[b].append(a)\n",
    "\n",
    "for neighbor in graph:\n",
    "    neighbor.sort()\n",
    "\n",
    "visited_bfs = [False] * (n + 1)\n",
    "visited_dfs = [False] * (n + 1)\n",
    "\n",
    "def dfs(x, visited_dfs):\n",
    "    visited_dfs[x] = True\n",
    "    print(x, end=\" \")\n",
    "\n",
    "    for k in graph[x]:\n",
    "        if not visited_dfs[k]:\n",
    "            bfs(k, visited_dfs)\n",
    "\n",
    "def bfs(x, visited_bfs):\n",
    "    queue = deque([x])\n",
    "    visited_bfs[x] = True\n",
    "\n",
    "    while queue:\n",
    "        node = queue.popleft()\n",
    "        print(node, end=\" \")\n",
    "\n",
    "        for k in graph[node]:\n",
    "            if not visited_bfs[k]:\n",
    "                queue.append(k)\n",
    "                visited_bfs[k] = True\n",
    "\n",
    "dfs(v, visited_dfs)\n",
    "print()\n",
    "bfs(v, visited_bfs)\n"
   ]
  }
 ],
 "metadata": {
  "kernelspec": {
   "display_name": "Python 3",
   "language": "python",
   "name": "python3"
  },
  "language_info": {
   "codemirror_mode": {
    "name": "ipython",
    "version": 3
   },
   "file_extension": ".py",
   "mimetype": "text/x-python",
   "name": "python",
   "nbconvert_exporter": "python",
   "pygments_lexer": "ipython3",
   "version": "3.11.3"
  },
  "orig_nbformat": 4
 },
 "nbformat": 4,
 "nbformat_minor": 2
}
