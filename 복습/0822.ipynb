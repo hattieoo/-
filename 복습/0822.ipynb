{
 "cells": [
  {
   "cell_type": "code",
   "execution_count": 3,
   "metadata": {},
   "outputs": [
    {
     "name": "stdout",
     "output_type": "stream",
     "text": [
      "6\n",
      "72\n"
     ]
    }
   ],
   "source": [
    "# 최대공약수와 최소공배수\n",
    "import math\n",
    "a, b = map(int, input().split())\n",
    "\n",
    "# math \n",
    "print(math.gcd(a, b))\n",
    "print(math.lcm(a, b))"
   ]
  },
  {
   "cell_type": "code",
   "execution_count": null,
   "metadata": {},
   "outputs": [],
   "source": [
    "def gcd(a, b):\n",
    "    while b > 0:\n",
    "        a, b = b, a % b\n",
    "    return a \n",
    "\n",
    "def lcm(a, b):\n",
    "    return a * b / gcd(a, b)"
   ]
  },
  {
   "cell_type": "code",
   "execution_count": 4,
   "metadata": {},
   "outputs": [
    {
     "name": "stdout",
     "output_type": "stream",
     "text": [
      "3\n"
     ]
    }
   ],
   "source": [
    "# 소수 찾기 \n",
    "N = int(input())\n",
    "numbers = list(map(int, input().split()))\n",
    "result = 0\n",
    "\n",
    "for number in numbers:\n",
    "    cnt = 0\n",
    "    if number > 1:\n",
    "        for i in range(2, number):\n",
    "            if number % i == 0:\n",
    "                cnt += 1\n",
    "        if cnt == 0:\n",
    "            result += 1\n",
    "\n",
    "print(result)"
   ]
  },
  {
   "cell_type": "code",
   "execution_count": 6,
   "metadata": {},
   "outputs": [
    {
     "name": "stdout",
     "output_type": "stream",
     "text": [
      "620\n",
      "61\n"
     ]
    }
   ],
   "source": [
    "# 소수\n",
    "def is_prime(a):\n",
    "    if a < 2:\n",
    "        return False\n",
    "    for i in range(2, int(a**0.5) + 1):\n",
    "        if a % i == 0:\n",
    "            return False\n",
    "    return True\n",
    "\n",
    "m = int(input())\n",
    "n = int(input())\n",
    "\n",
    "result = []\n",
    "\n",
    "for k in range(m, n + 1):\n",
    "    if is_prime(k):\n",
    "        result.append(k)\n",
    "\n",
    "if result:\n",
    "    print(sum(result))\n",
    "    print(min(result))\n",
    "else:\n",
    "    print(-1)"
   ]
  },
  {
   "cell_type": "code",
   "execution_count": 11,
   "metadata": {},
   "outputs": [
    {
     "name": "stdout",
     "output_type": "stream",
     "text": [
      "19\n"
     ]
    }
   ],
   "source": [
    "# 수들의 합 \n",
    "S = int(input())\n",
    "i = 0\n",
    "sum = 0\n",
    "\n",
    "while True:\n",
    "    i += 1\n",
    "    sum += i\n",
    "   \n",
    "    if sum > S:\n",
    "        break\n",
    "\n",
    "print(i - 1)"
   ]
  },
  {
   "cell_type": "code",
   "execution_count": 22,
   "metadata": {},
   "outputs": [
    {
     "name": "stdout",
     "output_type": "stream",
     "text": [
      "[[], [], [], [], []]\n",
      "[[], [2, 3, 4], [1, 4], [1, 4], [1, 2, 3]]\n"
     ]
    }
   ],
   "source": [
    "# DFS와 BFS\n",
    "N, M, V = map(int, input().split())\n",
    "graph = [[] for _ in range(N + 1)]\n",
    "\n",
    "for _ in range(M):\n",
    "    a, b = map(int, input().split())\n",
    "    graph[a].append(b)\n",
    "    graph[b].append(a)\n",
    "\n",
    "for neighbor in graph:\n",
    "    neighbor.sort()"
   ]
  },
  {
   "cell_type": "code",
   "execution_count": 30,
   "metadata": {},
   "outputs": [
    {
     "name": "stdout",
     "output_type": "stream",
     "text": [
      "1 2 4 3 \n",
      "1 2 3 4 "
     ]
    }
   ],
   "source": [
    "from collections import deque\n",
    "\n",
    "visited_bfs = [False] * (N + 1)\n",
    "visited_dfs = [False] * (N + 1)\n",
    "\n",
    "def bfs(graph, visited, start):\n",
    "    queue = deque([start])\n",
    "    visited[start] = True\n",
    "\n",
    "    while queue:\n",
    "        node = queue.popleft()\n",
    "        print(node, end=\" \")\n",
    "\n",
    "        for neighbor in graph[node]:\n",
    "            if not visited[neighbor]:\n",
    "                queue.append(neighbor)\n",
    "                visited[neighbor] = True\n",
    "\n",
    "def dfs(graph, visited, start):\n",
    "    visited[start] = True\n",
    "    print(start, end=\" \")\n",
    "\n",
    "    for g in graph[start]:\n",
    "       if not visited[g]:\n",
    "           bfs(graph, visited, g)\n",
    "\n",
    "dfs(graph, visited_dfs, V)\n",
    "print()\n",
    "bfs(graph, visited_bfs, V)"
   ]
  },
  {
   "cell_type": "code",
   "execution_count": 1,
   "metadata": {},
   "outputs": [
    {
     "name": "stdout",
     "output_type": "stream",
     "text": [
      "[['W', 'B', 'W', 'W', 'W'], ['W', 'W', 'W', 'W', 'W'], ['B', 'B', 'B', 'B', 'B'], ['B', 'B', 'B', 'W', 'W'], ['W', 'W', 'W', 'W', 'W']]\n"
     ]
    }
   ],
   "source": [
    "# 전쟁 - 전투\n",
    "N, M = map(int, input().split())\n",
    "graph = [list(input()) for _ in range(M)]\n",
    "print(graph)"
   ]
  },
  {
   "cell_type": "code",
   "execution_count": 8,
   "metadata": {},
   "outputs": [
    {
     "name": "stdout",
     "output_type": "stream",
     "text": [
      "130 65\n"
     ]
    }
   ],
   "source": [
    "from collections import deque\n",
    "\n",
    "dx = [-1, 1, 0, 0]\n",
    "dy = [0, 0, -1, 1]\n",
    "\n",
    "visited = [[False] * N for _ in range(M)]\n",
    "\n",
    "def bfs(graph, visited, start):\n",
    "    a, b = start[0], start[1]\n",
    "    queue = deque([(a, b)])\n",
    "    visited[a][b] = True\n",
    "    count = 1\n",
    "\n",
    "    while queue:\n",
    "        x, y = queue.popleft()\n",
    "\n",
    "        for i in range(4):\n",
    "            nx = x + dx[i]\n",
    "            ny = y + dy[i]\n",
    "\n",
    "            if 0 <= nx < N and 0 <= ny < M and not visited[nx][ny] and graph[nx][ny] == graph[x][y]:\n",
    "                visited[nx][ny] = True\n",
    "                count += 1\n",
    "                queue.append((nx, ny))\n",
    "    \n",
    "    return count\n",
    "\n",
    "w_score = 0\n",
    "b_score = 0\n",
    "\n",
    "for i in range(N):\n",
    "    for j in range(M):\n",
    "        if not visited[i][j]:\n",
    "            cnt = bfs(graph, visited, (i, j))\n",
    "            if graph[i][j] == 'W':\n",
    "                w_score += cnt ** 2\n",
    "            else:\n",
    "                b_score += cnt ** 2\n",
    "\n",
    "print(w_score, b_score) "
   ]
  },
  {
   "cell_type": "code",
   "execution_count": null,
   "metadata": {},
   "outputs": [],
   "source": [
    "# 사탕 교환\n",
    "\n",
    "def check(data):\n",
    "    max_cnt = 1\n",
    "    for i in range(n):\n",
    "        cnt = 1\n",
    "        for j in range(1, n):\n",
    "            if data[i][j] == data[i][j-1]:\n",
    "                cnt += 1\n",
    "            else:\n",
    "                cnt = 1\n",
    "            max_cnt = max(max_cnt, cnt)\n",
    "        cnt = 1\n",
    "        for j in range(1, n):\n",
    "            if data[j][i] == data[j-1][i]:\n",
    "                cnt += 1\n",
    "            else:\n",
    "                cnt = 1\n",
    "            max_cnt = max(max_cnt, cnt)\n",
    "    return max_cnt"
   ]
  }
 ],
 "metadata": {
  "kernelspec": {
   "display_name": "Python 3",
   "language": "python",
   "name": "python3"
  },
  "language_info": {
   "codemirror_mode": {
    "name": "ipython",
    "version": 3
   },
   "file_extension": ".py",
   "mimetype": "text/x-python",
   "name": "python",
   "nbconvert_exporter": "python",
   "pygments_lexer": "ipython3",
   "version": "3.11.3"
  },
  "orig_nbformat": 4
 },
 "nbformat": 4,
 "nbformat_minor": 2
}
