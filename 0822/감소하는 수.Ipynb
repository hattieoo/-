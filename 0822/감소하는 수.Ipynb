{
 "cells": [
  {
   "cell_type": "markdown",
   "metadata": {},
   "source": [
    "## 📝 문제\n",
    "\n",
    "https://www.acmicpc.net/problem/1038"
   ]
  },
  {
   "cell_type": "markdown",
   "metadata": {},
   "source": [
    "## 💻 코드"
   ]
  },
  {
   "cell_type": "code",
   "execution_count": 14,
   "metadata": {},
   "outputs": [
    {
     "name": "stdout",
     "output_type": "stream",
     "text": [
      "42\n"
     ]
    }
   ],
   "source": [
    "from itertools import combinations\n",
    "n = int(input())\n",
    "nums = list()               \n",
    "for i in range(1, 11):      \n",
    "    for comb in combinations(range(0, 10), i):  \n",
    "        comb = list(comb)\n",
    "        comb.sort(reverse=True)                     \n",
    "        nums.append(int(\"\".join(map(str, comb))))\n",
    "\n",
    "nums.sort()   \n",
    "\n",
    "try:\n",
    "    print(nums[n])\n",
    "except:    \n",
    "    print(-1)"
   ]
  },
  {
   "cell_type": "markdown",
   "metadata": {},
   "source": [
    "## 💡 공부한 내용"
   ]
  },
  {
   "cell_type": "markdown",
   "metadata": {},
   "source": [
    "처음 접근 할 때 1의 자리는 그냥 개수 세주고, 2의 자리 이상부터는 각 자릿수를 나눠서 배열이 감소하는 수인지 확인하려 했으나, 시간 초과가 떴다. \n",
    "\n",
    "다른 사람 코드를 확인해보자!\n",
    "\n",
    "[풀이 방법]\n",
    "1. 0~9로 1개~10개까지 모든 조합을 구한다.\n",
    "2. 오름차순을 하여 정렬한다.\n",
    "3. 해당 수를 출력하거나 인덱스 에러가 나면 해당 순서 감소하는 수가 없는 것이라 -1 출력한다.\n",
    "\n",
    "[코드 설명]\n",
    "1. for i in range(1, 11): 1부터 10까지의 숫자에 대해 반복합니다. 이는 감소하는 수의 자릿수가 1부터 10까지 가능함을 의미합니다.\n",
    "2. for comb in combinations(range(0, 10), i):: 0부터 9까지의 숫자에서 i개를 뽑아서 조합을 만듭니다. 이렇게 하면 i자리 감소하는 수의 가능한 숫자 조합을 생성합니다.\n",
    "3. comb = list(comb): 조합 객체를 리스트로 변환합니다.\n",
    "4. comb.sort(reverse=True): 생성한 조합을 감소하는 순서로 정렬합니다. 조합을 내림차순으로 정렬하면 감소하는 수를 얻을 수 있습니다.\n",
    "\n",
    "-> 조합으로 나온 숫자가 154라면, sort = 145, reverse = 541\n",
    "\n",
    "5. nums.append(int(\"\".join(map(str, comb)))): 정렬한 조합을 문자열로 변환한 후, 다시 숫자로 바꾸어서 nums 리스트에 추가합니다. 이렇게 생성된 모든 감소하는 수가 nums 리스트에 저장됩니다.\n",
    "6. nums.sort(): nums 리스트의 감소하는 수를 오름차순으로 정렬합니다.\n",
    "\n",
    "\n",
    "\n",
    "### 각 자리수 분리\n",
    "\n",
    "1. 문자열로 변환 후, 분리\n",
    "```py\n",
    "a = []\n",
    "for i in str(number):\n",
    "    a.append(i)\n",
    "```\n",
    "\n",
    "2. 10으로 나누어 자릿수 분리\n",
    "```py\n",
    "a = []\n",
    "while(number!=0):\n",
    "    a.append(number%10)\n",
    "    x = x//10\n",
    "```"
   ]
  }
 ],
 "metadata": {
  "kernelspec": {
   "display_name": "Python 3",
   "language": "python",
   "name": "python3"
  },
  "language_info": {
   "codemirror_mode": {
    "name": "ipython",
    "version": 3
   },
   "file_extension": ".py",
   "mimetype": "text/x-python",
   "name": "python",
   "nbconvert_exporter": "python",
   "pygments_lexer": "ipython3",
   "version": "3.11.3"
  },
  "orig_nbformat": 4
 },
 "nbformat": 4,
 "nbformat_minor": 2
}
