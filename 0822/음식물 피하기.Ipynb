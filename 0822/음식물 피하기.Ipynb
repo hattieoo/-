{
 "cells": [
  {
   "cell_type": "markdown",
   "metadata": {},
   "source": [
    "## 📝 문제\n",
    "\n",
    "https://www.acmicpc.net/problem/1743"
   ]
  },
  {
   "cell_type": "markdown",
   "metadata": {},
   "source": [
    "## 💻 코드"
   ]
  },
  {
   "cell_type": "code",
   "execution_count": null,
   "metadata": {},
   "outputs": [],
   "source": [
    "from collections import deque\n",
    "import sys\n",
    "input = sys.stdin.readline\n",
    "\n",
    "dx = [-1, 1, 0, 0]\n",
    "dy = [0, 0, -1, 1]\n",
    "\n",
    "def bfs(x, y):\n",
    "    queue = deque([(x, y)])\n",
    "    visited[x][y] = True\n",
    "\n",
    "    count = 1\n",
    "\n",
    "    while queue:\n",
    "        a, b = queue.popleft()\n",
    "\n",
    "        for i in range(4):\n",
    "            nx = a + dx[i]\n",
    "            ny = b + dy[i]\n",
    "\n",
    "            if 0 <= nx < N and 0 <= ny < M and graph[nx][ny] == 1 and not visited[nx][ny]:\n",
    "                count += 1\n",
    "                visited[nx][ny] = True\n",
    "                queue.append((nx, ny))\n",
    "    \n",
    "    return count\n",
    "\n",
    "N, M, K = map(int, input().split())\n",
    "graph = [[0] * (M) for _ in range(N)]\n",
    "\n",
    "for _ in range(K):\n",
    "    r, c = map(int, input().split())\n",
    "    graph[r-1][c-1] = 1\n",
    "\n",
    "visited = [[False] * M for _ in range(N)]\n",
    "\n",
    "result = []\n",
    "\n",
    "for i in range(N):\n",
    "    for j in range(M):\n",
    "        if not visited[i][j] and graph[i][j] == 1:\n",
    "            result.append(bfs(i, j))\n",
    "\n",
    "print(max(result))"
   ]
  },
  {
   "cell_type": "markdown",
   "metadata": {},
   "source": [
    "## 💡 공부한 내용"
   ]
  }
 ],
 "metadata": {
  "kernelspec": {
   "display_name": "Python 3",
   "language": "python",
   "name": "python3"
  },
  "language_info": {
   "codemirror_mode": {
    "name": "ipython",
    "version": 3
   },
   "file_extension": ".py",
   "mimetype": "text/x-python",
   "name": "python",
   "nbconvert_exporter": "python",
   "pygments_lexer": "ipython3",
   "version": "3.11.3"
  },
  "orig_nbformat": 4
 },
 "nbformat": 4,
 "nbformat_minor": 2
}
