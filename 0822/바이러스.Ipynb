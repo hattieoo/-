{
 "cells": [
  {
   "cell_type": "markdown",
   "metadata": {},
   "source": [
    "## 📝 문제\n",
    "\n",
    "https://www.acmicpc.net/problem/2606"
   ]
  },
  {
   "cell_type": "markdown",
   "metadata": {},
   "source": [
    "## 💻 코드"
   ]
  },
  {
   "cell_type": "code",
   "execution_count": null,
   "metadata": {},
   "outputs": [],
   "source": [
    "from collections import deque\n",
    "\n",
    "def bfs(graph, visited, start):\n",
    "    queue = deque([start])\n",
    "    visited[start] = True\n",
    "    count = 0\n",
    "\n",
    "    while queue:\n",
    "        node = queue.popleft()\n",
    "        count += 1\n",
    "\n",
    "        for a in graph[node]:\n",
    "            if not visited[a]:\n",
    "                visited[a] = True\n",
    "                queue.append(a)\n",
    "    return count\n",
    "\n",
    "n = int(input())\n",
    "k = int(input())\n",
    "graph = [[] for _ in range(n + 1)]\n",
    "\n",
    "visited = [False] * (n+1)\n",
    "\n",
    "for _ in range(k):\n",
    "    a, b = map(int, input().split())\n",
    "    graph[a].append(b)\n",
    "    graph[b].append(a)\n",
    "    \n",
    "result = bfs(graph, visited, 1)\n",
    "print(result - 1)"
   ]
  },
  {
   "cell_type": "markdown",
   "metadata": {},
   "source": [
    "## 💡 공부한 내용"
   ]
  }
 ],
 "metadata": {
  "kernelspec": {
   "display_name": "Python 3",
   "language": "python",
   "name": "python3"
  },
  "language_info": {
   "codemirror_mode": {
    "name": "ipython",
    "version": 3
   },
   "file_extension": ".py",
   "mimetype": "text/x-python",
   "name": "python",
   "nbconvert_exporter": "python",
   "pygments_lexer": "ipython3",
   "version": "3.11.3"
  },
  "orig_nbformat": 4
 },
 "nbformat": 4,
 "nbformat_minor": 2
}
