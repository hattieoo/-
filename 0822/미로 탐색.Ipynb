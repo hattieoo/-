{
 "cells": [
  {
   "cell_type": "markdown",
   "metadata": {},
   "source": [
    "## 📝 문제\n",
    "\n",
    "https://www.acmicpc.net/problem/2178"
   ]
  },
  {
   "cell_type": "markdown",
   "metadata": {},
   "source": [
    "## 💻 코드"
   ]
  },
  {
   "cell_type": "code",
   "execution_count": 3,
   "metadata": {},
   "outputs": [
    {
     "name": "stdout",
     "output_type": "stream",
     "text": [
      "15\n"
     ]
    }
   ],
   "source": [
    "from collections import deque\n",
    "\n",
    "N, M = map(int, input().split())\n",
    "\n",
    "graph = [list(map(int, input())) for _ in range(N)]\n",
    "\n",
    "visited = [[0] * M for _ in range(N)]\n",
    "\n",
    "dx = [-1, 1, 0, 0]\n",
    "dy = [0, 0, -1, 1]\n",
    "\n",
    "def bfs(x, y):\n",
    "    queue = deque([(x, y)])\n",
    "    visited[x][y] = 1\n",
    "\n",
    "    while queue:\n",
    "        a, b = queue.popleft()\n",
    "\n",
    "        for i in range(4):\n",
    "            nx = a + dx[i]\n",
    "            ny = b + dy[i]\n",
    "\n",
    "            if 0 <= nx < N and 0 <= ny < M and graph[nx][ny] == 1 and visited[nx][ny] == 0:\n",
    "                visited[nx][ny] = visited[a][b] + 1\n",
    "                queue.append((nx, ny))\n",
    "\n",
    "    return visited[N-1][M-1]\n",
    "\n",
    "print(bfs(0, 0))"
   ]
  },
  {
   "cell_type": "markdown",
   "metadata": {},
   "source": [
    "## 💡 공부한 내용"
   ]
  },
  {
   "cell_type": "markdown",
   "metadata": {},
   "source": [
    "```py\n",
    "import sys\n",
    "input = sys.stdin.readline\n",
    "graph = [list(map(int, input().rstrip())) for _ in range(N)]\n",
    "```\n",
    "\n",
    "graph 입력 받을 때 꼭 rstrip() 사용해줄 것!!\n",
    "\n",
    "(입력을 처리할 때 문자열 끝에 있는 공백, 개행문자 등을 제거하기 위해서)"
   ]
  }
 ],
 "metadata": {
  "kernelspec": {
   "display_name": "Python 3",
   "language": "python",
   "name": "python3"
  },
  "language_info": {
   "codemirror_mode": {
    "name": "ipython",
    "version": 3
   },
   "file_extension": ".py",
   "mimetype": "text/x-python",
   "name": "python",
   "nbconvert_exporter": "python",
   "pygments_lexer": "ipython3",
   "version": "3.11.3"
  },
  "orig_nbformat": 4
 },
 "nbformat": 4,
 "nbformat_minor": 2
}
