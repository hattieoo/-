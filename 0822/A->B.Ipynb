{
 "cells": [
  {
   "cell_type": "markdown",
   "metadata": {},
   "source": [
    "## 📝 문제\n",
    "\n",
    "https://www.acmicpc.net/problem/16953"
   ]
  },
  {
   "cell_type": "markdown",
   "metadata": {},
   "source": [
    "## 💻 코드"
   ]
  },
  {
   "cell_type": "code",
   "execution_count": 34,
   "metadata": {},
   "outputs": [
    {
     "name": "stdout",
     "output_type": "stream",
     "text": [
      "5\n"
     ]
    }
   ],
   "source": [
    "A, B = map(int, input().split())\n",
    "count = 1\n",
    "\n",
    "while B != A:\n",
    "    count += 1\n",
    "    temp = B\n",
    "\n",
    "    if B % 10 == 1:\n",
    "        B //= 10\n",
    "    elif B % 2 == 0:\n",
    "        B //= 2\n",
    "    \n",
    "    if temp == B:\n",
    "        print(-1)\n",
    "        break\n",
    "else:\n",
    "    print(count)"
   ]
  },
  {
   "cell_type": "markdown",
   "metadata": {},
   "source": [
    "## 💡 공부한 내용"
   ]
  },
  {
   "cell_type": "markdown",
   "metadata": {},
   "source": [
    "생각한 풀이 방법\n",
    "\n",
    "1. a가 b가 되는 조건을 찾는 것이 아닌, b가 a가 되는 조건을 찾음\n",
    "2. b의 끝 자리가 1일 때와 b를 2로 나누었을 때 0일 때 조건을 이용한다.\n",
    "\n",
    "나는 dfs라 생각하고 재귀함수로 풀려고 했으나, 더 간단한 풀이 방법이 있었다. \n",
    "\n",
    "또 끝 자리가 1인지를 확인 할 때, 각 자릿수로 나눠서 1인지 확인하고, 1을 제거하고, 다시 숫자로 만들어주는 작업을 했다.\n",
    "\n",
    "```py\n",
    "n = 261\n",
    "temp_list = list(str(n))\n",
    "print(temp_list)\n",
    "\n",
    "if temp_list[-1] == '1':\n",
    "    temp_list.pop()\n",
    "print(int((\"\").join(temp_list)))\n",
    "```\n",
    "\n",
    "\n",
    "이러한 방법 보다 간단한 방법이 있었다.\n",
    "\n",
    "```py\n",
    "if B % 10 == 1:\n",
    "    B //= 10\n",
    "\n",
    "```"
   ]
  }
 ],
 "metadata": {
  "kernelspec": {
   "display_name": "Python 3",
   "language": "python",
   "name": "python3"
  },
  "language_info": {
   "codemirror_mode": {
    "name": "ipython",
    "version": 3
   },
   "file_extension": ".py",
   "mimetype": "text/x-python",
   "name": "python",
   "nbconvert_exporter": "python",
   "pygments_lexer": "ipython3",
   "version": "3.11.3"
  },
  "orig_nbformat": 4
 },
 "nbformat": 4,
 "nbformat_minor": 2
}
