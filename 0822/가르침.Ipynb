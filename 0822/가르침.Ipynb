{
 "cells": [
  {
   "cell_type": "markdown",
   "metadata": {},
   "source": [
    "## 📝 문제\n",
    "\n",
    "https://www.acmicpc.net/problem/1062"
   ]
  },
  {
   "cell_type": "markdown",
   "metadata": {},
   "source": [
    "## 💻 코드"
   ]
  },
  {
   "cell_type": "code",
   "execution_count": 19,
   "metadata": {},
   "outputs": [
    {
     "name": "stdout",
     "output_type": "stream",
     "text": [
      "{'c', 'i', 'n', 'a', 't'}\n"
     ]
    }
   ],
   "source": [
    "N, K = map(int, input().split())\n",
    "\n",
    "# 필수 단어 (중복 제거)\n",
    "word = set('anta' + 'tica')\n",
    "print(word)\n",
    "K -= len(word)\n",
    "# 각 단어에서 입력받으면서 anta, tica 제거\n",
    "words = tuple()\n",
    "\n",
    "for _ in range(N):\n",
    "    w = input()\n",
    "    w = w.strip('anta')\n",
    "    w = w.strip('tica')\n",
    "    words.append(set(w))"
   ]
  },
  {
   "cell_type": "code",
   "execution_count": 4,
   "metadata": {},
   "outputs": [
    {
     "name": "stdout",
     "output_type": "stream",
     "text": [
      "[{'r'}, {'r'}]\n",
      "1\n",
      "[{'r'}, {'r'}]\n"
     ]
    }
   ],
   "source": [
    "print(words)\n",
    "print(K)\n",
    "\n",
    "for i in range(len(words)):\n",
    "    if K < len(words[i]):\n",
    "        del words[i]\n",
    "print(words)"
   ]
  },
  {
   "cell_type": "code",
   "execution_count": 11,
   "metadata": {},
   "outputs": [
    {
     "name": "stdout",
     "output_type": "stream",
     "text": [
      "{'b', 'r'}\n"
     ]
    }
   ],
   "source": [
    "w = 'rbrr'\n",
    "w = set(w)\n",
    "print(w)"
   ]
  },
  {
   "cell_type": "code",
   "execution_count": 22,
   "metadata": {},
   "outputs": [
    {
     "name": "stdout",
     "output_type": "stream",
     "text": [
      "[{'r'}, {'e', 'h', 'o', 'l'}, {'r'}]\n"
     ]
    }
   ],
   "source": [
    "print(words)"
   ]
  },
  {
   "cell_type": "code",
   "execution_count": 9,
   "metadata": {},
   "outputs": [
    {
     "name": "stdout",
     "output_type": "stream",
     "text": [
      "r\n"
     ]
    }
   ],
   "source": [
    "w = 'antarctica'\n",
    "w = w.strip('anta')\n",
    "w = w.strip('tica')\n",
    "print(w)"
   ]
  },
  {
   "cell_type": "markdown",
   "metadata": {},
   "source": [
    "## 💡 공부한 내용"
   ]
  }
 ],
 "metadata": {
  "kernelspec": {
   "display_name": "Python 3",
   "language": "python",
   "name": "python3"
  },
  "language_info": {
   "codemirror_mode": {
    "name": "ipython",
    "version": 3
   },
   "file_extension": ".py",
   "mimetype": "text/x-python",
   "name": "python",
   "nbconvert_exporter": "python",
   "pygments_lexer": "ipython3",
   "version": "3.11.3"
  },
  "orig_nbformat": 4
 },
 "nbformat": 4,
 "nbformat_minor": 2
}
