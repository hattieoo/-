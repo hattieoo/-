{
 "cells": [
  {
   "cell_type": "markdown",
   "metadata": {},
   "source": [
    "## 📝 문제\n",
    "\n",
    "https://www.acmicpc.net/problem/2581"
   ]
  },
  {
   "cell_type": "markdown",
   "metadata": {},
   "source": [
    "## 💻 코드"
   ]
  },
  {
   "cell_type": "code",
   "execution_count": 6,
   "metadata": {},
   "outputs": [
    {
     "name": "stdout",
     "output_type": "stream",
     "text": [
      "620\n",
      "61\n"
     ]
    }
   ],
   "source": [
    "def is_prime(n):\n",
    "    if n < 2:\n",
    "        return False\n",
    "    for i in range(2, int(n ** 0.5) + 1):\n",
    "        if n % i == 0:\n",
    "            return False\n",
    "    return True\n",
    "\n",
    "m = int(input())\n",
    "n = int(input())\n",
    "\n",
    "result = []\n",
    "\n",
    "for i in range(m, n + 1):\n",
    "    if is_prime(i):\n",
    "        result.append(i)\n",
    "\n",
    "if result:\n",
    "    print(sum(result))\n",
    "    print(min(result))\n",
    "else:\n",
    "    print(-1)"
   ]
  },
  {
   "cell_type": "markdown",
   "metadata": {},
   "source": [
    "## 💡 공부한 내용"
   ]
  },
  {
   "cell_type": "markdown",
   "metadata": {},
   "source": [
    "for i in range(2, int(n ** 0.5) + 1):에서 i는 2부터 n의 제곱근까지 반복합니다. 소수를 판별하는데에는 제곱근까지만 확인하면 충분하다. \n",
    "\n",
    "어떤 정수의 약수 중에서 가장 작은 약수는 2이고, 그 다음으로 큰 약수는 2보다 큰 짝수일 것이기 때문입니다. 따라서 만약 어떤 수가 소수가 아니라면, 그 수의 약수 중 하나는 반드시 2보다 크고 해당 수의 제곱근보다 작은 값일 것이다. "
   ]
  }
 ],
 "metadata": {
  "kernelspec": {
   "display_name": "Python 3",
   "language": "python",
   "name": "python3"
  },
  "language_info": {
   "codemirror_mode": {
    "name": "ipython",
    "version": 3
   },
   "file_extension": ".py",
   "mimetype": "text/x-python",
   "name": "python",
   "nbconvert_exporter": "python",
   "pygments_lexer": "ipython3",
   "version": "3.11.3"
  },
  "orig_nbformat": 4
 },
 "nbformat": 4,
 "nbformat_minor": 2
}
