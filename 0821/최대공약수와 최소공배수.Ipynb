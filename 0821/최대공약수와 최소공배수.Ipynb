{
 "cells": [
  {
   "cell_type": "markdown",
   "metadata": {},
   "source": [
    "## 📝 문제\n",
    "\n",
    "https://www.acmicpc.net/problem/2609"
   ]
  },
  {
   "cell_type": "markdown",
   "metadata": {},
   "source": [
    "## 💻 코드"
   ]
  },
  {
   "cell_type": "code",
   "execution_count": 1,
   "metadata": {},
   "outputs": [
    {
     "name": "stdout",
     "output_type": "stream",
     "text": [
      "6\n",
      "72\n"
     ]
    }
   ],
   "source": [
    "import math\n",
    "\n",
    "a, b = map(int, input().split())\n",
    "\n",
    "print(math.gcd(a, b))\n",
    "print(math.lcm(a, b))"
   ]
  },
  {
   "cell_type": "markdown",
   "metadata": {},
   "source": [
    "## 💡 공부한 내용"
   ]
  },
  {
   "cell_type": "markdown",
   "metadata": {},
   "source": [
    "파이썬 math 모듈에 최대공약수와 최소공배수를 구하는 함수가 내장되어 있음.\n",
    "\n",
    "최대공약수: math.gcd(a,b)\n",
    "최소공배수: math.lcm(a,b)\n",
    "\n",
    "**유클리드 호제법**\n",
    "\n",
    "[호제법] - 두 수가 서로 상대방 수를 나누어서 결국 원하는 수를 얻는 알고리즘 \n",
    "\n",
    "최대공약수: b를 r로 나눈 나머지 r'를 구하고, 다시 r을 r'로 나눈 나머지를 구하는 과정을 반복하여 나머지가 0이 되었을 때 나누는 수가 a와 b의 최대공약수\n",
    "\n",
    "```\n",
    "def gcd(a, b):\n",
    "    while b > 0:\n",
    "        a, b = b, a % b\n",
    "    return a\n",
    "```\n",
    "\n",
    "최소공배수: a, b의 곱을 a, b의 최대 공약수로 나누면 된다.\n",
    "\n",
    "```\n",
    "def lcm(a, b):\n",
    "    return a * b / gcd(a, b)\n",
    "```"
   ]
  },
  {
   "cell_type": "markdown",
   "metadata": {},
   "source": []
  }
 ],
 "metadata": {
  "kernelspec": {
   "display_name": "Python 3",
   "language": "python",
   "name": "python3"
  },
  "language_info": {
   "codemirror_mode": {
    "name": "ipython",
    "version": 3
   },
   "file_extension": ".py",
   "mimetype": "text/x-python",
   "name": "python",
   "nbconvert_exporter": "python",
   "pygments_lexer": "ipython3",
   "version": "3.11.3"
  },
  "orig_nbformat": 4
 },
 "nbformat": 4,
 "nbformat_minor": 2
}
