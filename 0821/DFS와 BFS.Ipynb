{
 "cells": [
  {
   "cell_type": "markdown",
   "metadata": {},
   "source": [
    "## 📝 문제\n",
    "\n",
    "https://www.acmicpc.net/problem/1260"
   ]
  },
  {
   "cell_type": "markdown",
   "metadata": {},
   "source": [
    "## 💻 코드"
   ]
  },
  {
   "cell_type": "code",
   "execution_count": 2,
   "metadata": {},
   "outputs": [
    {
     "name": "stdout",
     "output_type": "stream",
     "text": [
      "1 2 4 3 \n",
      "1 2 3 4 "
     ]
    }
   ],
   "source": [
    "from collections import deque\n",
    "\n",
    "def dfs(graph, start, visited):\n",
    "    visited[start] = True\n",
    "    print(start, end=' ')\n",
    "\n",
    "    for neighbor in graph[start]:\n",
    "        if not visited[neighbor]:\n",
    "            dfs(graph, neighbor, visited)\n",
    "\n",
    "def bfs(graph, start, visited):\n",
    "    queue = deque([start])\n",
    "    visited[start] = True\n",
    "\n",
    "    while queue:\n",
    "        node = queue.popleft()\n",
    "        print(node, end=' ')\n",
    "\n",
    "        for neighbor in graph[node]:\n",
    "            if not visited[neighbor]:\n",
    "                queue.append(neighbor)\n",
    "                visited[neighbor] = True\n",
    "\n",
    "# 정점의 개수 N, 간선의 개수 M, 시작 정점 번호 V를 입력받습니다.\n",
    "N, M, V = map(int, input().split())\n",
    "\n",
    "# 그래프를 인접 리스트 형태로 생성합니다.\n",
    "graph = [[] for _ in range(N + 1)]\n",
    "\n",
    "for _ in range(M):\n",
    "    u, v = map(int, input().split())\n",
    "    graph[u].append(v)\n",
    "    graph[v].append(u)\n",
    "\n",
    "# 각 정점의 인접한 정점들을 정렬합니다.\n",
    "for neighbors in graph:\n",
    "    neighbors.sort()\n",
    "\n",
    "# DFS와 BFS를 위한 방문 여부를 나타내는 리스트를 생성합니다.\n",
    "dfs_visited = [False] * (N + 1)\n",
    "bfs_visited = [False] * (N + 1)\n",
    "\n",
    "# DFS와 BFS를 호출하여 결과를 출력합니다.\n",
    "dfs(graph, V, dfs_visited)\n",
    "print()\n",
    "bfs(graph, V, bfs_visited)"
   ]
  },
  {
   "cell_type": "markdown",
   "metadata": {},
   "source": [
    "## 💡 공부한 내용"
   ]
  },
  {
   "cell_type": "markdown",
   "metadata": {},
   "source": [
    "dfs, bfs 알고리즘은 구현할 수 있었으나 입력하는 부분을 어떻게 처리해야할지 몰랐다. \n",
    "\n",
    "\n",
    "1. 먼저 정점 개수에 맞게 그래프를 생성한다.\n",
    "```\n",
    "graph = [[] for _ in range(N + 1)]\n",
    "```\n",
    "\n",
    "// [[], [], [], [], []]\n",
    "\n",
    "\n",
    "2. 간선이 연결하는 두 정점의 번호가 주어질 때 각 정점과 연결된 정점들을 구현한다.\n",
    "```\n",
    "for _ in range(M):\n",
    "    u, v = map(int, input().split())\n",
    "    graph[u].append(v)\n",
    "    graph[v].append(u)\n",
    "```\n",
    "\n",
    "// [[], [2, 3, 4], [1, 4], [1, 4], [1, 2, 3]]\n",
    "\n",
    "3. 각 정점의 인접한 정점들을 정렬한다. \n",
    "```\n",
    "for neighbors in graph:\n",
    "    neighbors.sort()\n",
    "```"
   ]
  },
  {
   "cell_type": "markdown",
   "metadata": {},
   "source": []
  }
 ],
 "metadata": {
  "kernelspec": {
   "display_name": "Python 3",
   "language": "python",
   "name": "python3"
  },
  "language_info": {
   "codemirror_mode": {
    "name": "ipython",
    "version": 3
   },
   "file_extension": ".py",
   "mimetype": "text/x-python",
   "name": "python",
   "nbconvert_exporter": "python",
   "pygments_lexer": "ipython3",
   "version": "3.11.3"
  },
  "orig_nbformat": 4
 },
 "nbformat": 4,
 "nbformat_minor": 2
}
