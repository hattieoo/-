{
 "cells": [
  {
   "cell_type": "markdown",
   "metadata": {},
   "source": [
    "## 📝 문제\n",
    "\n",
    "https://www.acmicpc.net/problem/3085"
   ]
  },
  {
   "cell_type": "markdown",
   "metadata": {},
   "source": [
    "## 💻 코드"
   ]
  },
  {
   "cell_type": "code",
   "execution_count": 6,
   "metadata": {},
   "outputs": [
    {
     "name": "stdout",
     "output_type": "stream",
     "text": [
      "3\n"
     ]
    }
   ],
   "source": [
    "def check(data):\n",
    "    max_cnt = 1\n",
    "    for i in range(n):\n",
    "        cnt = 1\n",
    "        for j in range(1, n):\n",
    "            if data[i][j] == data[i][j-1]:\n",
    "                cnt += 1\n",
    "            else:\n",
    "                cnt = 1\n",
    "            max_cnt = max(max_cnt, cnt)\n",
    "        cnt = 1\n",
    "        for j in range(1, n):\n",
    "            if data[j][i] == data[j-1][i]:\n",
    "                cnt += 1\n",
    "            else:\n",
    "                cnt = 1\n",
    "            max_cnt = max(max_cnt, cnt)\n",
    "    return max_cnt\n",
    "\n",
    "def solve(arr):\n",
    "    n = len(arr)\n",
    "    max_result = 0\n",
    "\n",
    "    # 행 교환\n",
    "    for i in range(n):\n",
    "        for j in range(n - 1):\n",
    "            arr[i][j], arr[i][j + 1] = arr[i][j + 1], arr[i][j]\n",
    "            max_result = max(max_result, check(arr))\n",
    "            arr[i][j], arr[i][j + 1] = arr[i][j + 1], arr[i][j]\n",
    "    \n",
    "    # 열 교환\n",
    "    for j in range(n):\n",
    "        for i in range(n-1):\n",
    "            arr[i][j], arr[i+1][j] = arr[i+1][j], arr[i][j]\n",
    "            max_result = max(max_result, check(arr))\n",
    "            arr[i][j], arr[i+1][j] = arr[i+1][j], arr[i][j]\n",
    "    \n",
    "    return max_result\n",
    "\n",
    "n = int(input())\n",
    "array = [list(input().strip()) for _ in range(n)]\n",
    "\n",
    "result = solve(array)\n",
    "print(result)"
   ]
  },
  {
   "cell_type": "markdown",
   "metadata": {},
   "source": [
    "## 💡 공부한 내용"
   ]
  },
  {
   "cell_type": "markdown",
   "metadata": {},
   "source": [
    "처음에 인접한 사탕을 검사하기 위해서 상하좌우를 검사해야겠다고 생각했는데, 그럼 무슨 기준으로 인접한 두 칸과 교환해야하는가에 대한 생각이 들었다. \n",
    "어떻게 구현할지 몰라 다른 풀이를 참고했다. \n",
    "\n",
    "**풀이 방법**\n",
    "\n",
    "행 교환과 열 교환을 시도하면서 가장 긴 연속된 사탕의 개수를 찾는 이유는, 교환 후에 가장 긴 연속된 사탕의 개수를 찾기 위해 모든 가능한 교환이 필요하기 때문입니다. 따라서 이중 반복문을 사용하여 모든 행과 열에 대해 교환을 시도하고 가장 긴 연속된 사탕의 개수를 찾는 방식으로 문제를 해결합니다.\n",
    "\n",
    "#두 인접한 열의 사탕을 교환하는 작업\n",
    "\n",
    "```py\n",
    "arr[i][j], arr[i][j + 1] = arr[i][j + 1], arr[i][j]\n",
    "max_result = max(max_result, check(arr))\n",
    "arr[i][j], arr[i][j + 1] = arr[i][j + 1], arr[i][j]\n",
    "```\n",
    "\n",
    "1. 사탕 배열 변경\n",
    "2. 변경된 사탕 배열에 대해 check 함수 호출하여 가장 긴 연속된 사탕의 개수 계산\n",
    "3. 사탕 배열을 다시 원래대로 되돌림.  (이 부분을 생각하지 못했다, 교환 후에는 다음 반복에서 올바른 비교를 위해 사탕 배열을 원래대로 되돌려 놓아야한다.)"
   ]
  }
 ],
 "metadata": {
  "kernelspec": {
   "display_name": "Python 3",
   "language": "python",
   "name": "python3"
  },
  "language_info": {
   "codemirror_mode": {
    "name": "ipython",
    "version": 3
   },
   "file_extension": ".py",
   "mimetype": "text/x-python",
   "name": "python",
   "nbconvert_exporter": "python",
   "pygments_lexer": "ipython3",
   "version": "3.11.3"
  },
  "orig_nbformat": 4
 },
 "nbformat": 4,
 "nbformat_minor": 2
}
