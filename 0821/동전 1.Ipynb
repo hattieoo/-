{
 "cells": [
  {
   "cell_type": "markdown",
   "metadata": {},
   "source": [
    "## 📝 문제\n",
    "\n",
    "https://www.acmicpc.net/problem/2293"
   ]
  },
  {
   "cell_type": "markdown",
   "metadata": {},
   "source": [
    "## 💻 코드"
   ]
  },
  {
   "cell_type": "code",
   "execution_count": 9,
   "metadata": {},
   "outputs": [
    {
     "name": "stdout",
     "output_type": "stream",
     "text": [
      "10\n"
     ]
    }
   ],
   "source": [
    "n, k = map(int, input().split())\n",
    "coins = [int(input()) for _ in range(n)]\n",
    "\n",
    "# 금액 k를 만들 수 있는 경우의 수 저장\n",
    "dp = [0] * (k + 1)\n",
    "# 동전 가치의 합이 0인 경우는 항상 1가지 경우의 수가 있음\n",
    "dp[0] = 1\n",
    "\n",
    "for coin in coins:\n",
    "    for i in range(coin, k + 1):\n",
    "        # 현재 금액 i를 만들 수 있는 경우의 수에, i - coin 금액을 만들 수 있는 경우의 수를 더함.\n",
    "        # 이렇게 함으로써 현재 금액을 만들 수 있는 경우의 수가 누적되어 갱신.\n",
    "        dp[i] += dp[i - coin]\n",
    "\n",
    "print(dp[k])"
   ]
  },
  {
   "cell_type": "markdown",
   "metadata": {},
   "source": [
    "## 💡 공부한 내용"
   ]
  },
  {
   "cell_type": "markdown",
   "metadata": {},
   "source": [
    "처음 생각한 방식은 순열, 조합 방법이었으나, 그렇게 할 경우 동일한 숫자 반복과 겹치지 않는 방법을 생각하지 못했다. \n",
    "\n",
    "=> 동적 프로그래밍(DP) 기법 사용\n",
    "\n",
    "=> 중복 계산을 효율적으로 피하면서 문제를 해결\n",
    "\n",
    "\n",
    "---\n",
    "``dp[i] += dp[i - coin]``\n",
    "\n",
    "https://seongonion.tistory.com/108\n",
    "\n",
    "(위와 같은 풀이 방법을 참고했으나, 명확하게 이해는 되지 않는다. 추가적으로 DP와 관련해서 공부해야겠다. )\n"
   ]
  }
 ],
 "metadata": {
  "kernelspec": {
   "display_name": "Python 3",
   "language": "python",
   "name": "python3"
  },
  "language_info": {
   "codemirror_mode": {
    "name": "ipython",
    "version": 3
   },
   "file_extension": ".py",
   "mimetype": "text/x-python",
   "name": "python",
   "nbconvert_exporter": "python",
   "pygments_lexer": "ipython3",
   "version": "3.11.3"
  },
  "orig_nbformat": 4
 },
 "nbformat": 4,
 "nbformat_minor": 2
}
